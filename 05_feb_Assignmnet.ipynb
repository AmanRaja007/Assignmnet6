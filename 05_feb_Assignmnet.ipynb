{
 "cells": [
  {
   "cell_type": "markdown",
   "id": "fb325a02-59b7-4aae-8c2c-815e0cb372c8",
   "metadata": {},
   "source": [
    "Q1.Explain Class and Object with respect to Object-Oriented Programming. Give a suitable example."
   ]
  },
  {
   "cell_type": "markdown",
   "id": "cab3603d-94e5-4580-a147-9da5a579a679",
   "metadata": {},
   "source": [
    "#Solution\n",
    "Class : Class is the classification of real world entity or we can say blueprint\n",
    "of real world entity.\n",
    "object:  An object is an instance of a class which has those properties and behaviours \n",
    "attached. A class is not allocated memory when it is defined. \n",
    "\n",
    "An object is allocated memory when it is created. Class is a logical entity whereas \n",
    "objects are physical entities.\n",
    "for example:"
   ]
  },
  {
   "cell_type": "code",
   "execution_count": 6,
   "id": "bcde43e9-2dc6-4f39-a9f0-48cd89c1888a",
   "metadata": {},
   "outputs": [],
   "source": [
    "class Student:\n",
    "    def __init__(self,name,rollno,Class):\n",
    "        self.name = name\n",
    "        self.Class = Class\n",
    "        self.rollno = rollno\n",
    "    def details(self):\n",
    "        return self.name,self.Class,self.rollno"
   ]
  },
  {
   "cell_type": "code",
   "execution_count": 7,
   "id": "aa22b4a8-a50b-4cbb-839b-3ec8d6db9f64",
   "metadata": {},
   "outputs": [],
   "source": [
    "#here obj is the object of the Class Student\n",
    "obj = Student(\"AMAN\",1,\"12th\")"
   ]
  },
  {
   "cell_type": "code",
   "execution_count": 8,
   "id": "79b4c1bd-d505-4aee-9249-9169bd75c85e",
   "metadata": {},
   "outputs": [
    {
     "data": {
      "text/plain": [
       "('AMAN', '12th', 1)"
      ]
     },
     "execution_count": 8,
     "metadata": {},
     "output_type": "execute_result"
    }
   ],
   "source": [
    "obj.details()"
   ]
  },
  {
   "cell_type": "code",
   "execution_count": 9,
   "id": "51fe7fbe-bfd7-49db-9783-899b3d0d0f1e",
   "metadata": {},
   "outputs": [
    {
     "data": {
      "text/plain": [
       "'AMAN'"
      ]
     },
     "execution_count": 9,
     "metadata": {},
     "output_type": "execute_result"
    }
   ],
   "source": [
    "obj.name"
   ]
  },
  {
   "cell_type": "markdown",
   "id": "fb37c08e-c7fb-43fa-a235-e0159dcefda4",
   "metadata": {},
   "source": [
    "Q2. Name the four pillars of OOPs."
   ]
  },
  {
   "cell_type": "markdown",
   "id": "0fc41594-bb0b-455a-bbf3-859067ef0c24",
   "metadata": {},
   "source": [
    "#Solution\n",
    "The four pillars for OOP are:\n",
    "Abstraction,\n",
    "Encapsulation,\n",
    "Inheritance,\n",
    "Polymorphism"
   ]
  },
  {
   "cell_type": "markdown",
   "id": "6b0fd4ca-c383-4f87-9d01-5e1e318d9733",
   "metadata": {},
   "source": [
    "Q3. Explain why the __init__() function is used. Give a suitable example."
   ]
  },
  {
   "cell_type": "markdown",
   "id": "c808e991-5589-400f-bf15-572b65b0327a",
   "metadata": {},
   "source": [
    "#Solution\n",
    "The Default __init__ Constructor in Python. Constructors are used to initializing the object’s state. The task of constructors is to initialize(assign values) to the data members of the class when an object of the class is created. Like methods, a constructor also contains a collection of statements(i.e. instructions) that are executed at the time of Object creation. It is run as soon as an object of a class is instantiated. The method is useful to do any initialization you want to do with your object."
   ]
  },
  {
   "cell_type": "code",
   "execution_count": 14,
   "id": "c3dff352-1e4f-47ac-9cd5-3e1700fa15c2",
   "metadata": {},
   "outputs": [],
   "source": [
    "# for example\n",
    "class person:\n",
    "    def __init__(self,name):\n",
    "        self.name = name\n",
    "    def welcome(self):\n",
    "        print(f\"Hello {self.name} welcome in OOP world\")\n",
    "obj = person(\"AMAN\")"
   ]
  },
  {
   "cell_type": "code",
   "execution_count": 15,
   "id": "4ab1e982-413d-4729-970c-770c78b7cc75",
   "metadata": {},
   "outputs": [
    {
     "name": "stdout",
     "output_type": "stream",
     "text": [
      "Hello AMAN welcome in OOP world\n"
     ]
    }
   ],
   "source": [
    "obj.welcome()"
   ]
  },
  {
   "cell_type": "code",
   "execution_count": 12,
   "id": "f43627f2-f313-4ad9-a1c5-40c0440a3714",
   "metadata": {},
   "outputs": [
    {
     "data": {
      "text/plain": [
       "'AMAN'"
      ]
     },
     "execution_count": 12,
     "metadata": {},
     "output_type": "execute_result"
    }
   ],
   "source": [
    "obj.name"
   ]
  },
  {
   "cell_type": "markdown",
   "id": "e9ff7bdf-9fa8-4a29-afd9-cf1cd321722e",
   "metadata": {},
   "source": [
    "Q4. Why self is used in OOPs?"
   ]
  },
  {
   "cell_type": "markdown",
   "id": "74ee61e9-470e-4d61-a321-4a5787acb442",
   "metadata": {},
   "source": [
    "#solution\n",
    "self allows access to the attributes and methods of each object in python. This allows each object to have its own attributes and methods. Thus, even long before creating these objects, we reference the objects as self while defining the class."
   ]
  },
  {
   "cell_type": "markdown",
   "id": "16809e08-230b-4d5f-82c2-0be6ed442f86",
   "metadata": {},
   "source": [
    "Q5. What is inheritance? Give an example for each type of inheritance."
   ]
  },
  {
   "cell_type": "markdown",
   "id": "dedb5b8d-eaf0-45b5-89a3-5aa7b3867f97",
   "metadata": {},
   "source": [
    "#Solution\n",
    "Inheritance allows us to define a class that inherits all the methods and properties from another class.\n",
    "Parent class is the class being inherited from, also called base class.\n",
    "Child class is the class that inherits from another class, also called derived class\n",
    "Types of Inheritance:\n",
    "1.Single Inheritance :Single inheritance enables a derived class to inherit properties from a single parent class,\n",
    "for e.g class A is the base class so Class B is derived from the base class.\n",
    "\n",
    "2.Mutliple Inheritance :When a class can be derived from more than one base class this type of inheritance is called multiple inheritances.\n",
    "for e.g Class A is the base class and Class B is the another class \n",
    "so Class C is derived from both Class A and Class B \n",
    "\n",
    "3.Mutilevel Inheritence: In multilevel inheritance, features of the base class and the derived class are further inherited into the new derived class.\n",
    "for e.g Class B  is derived from the SuperClass class A, and the Class C  is derived from the CLass B .\n",
    "\n",
    "4.Hybrid Inheritence:Inheritance consisting of multiple types of inheritance is called hybrid inheritance.\n",
    "for e.g..\n",
    "\n",
    "5.Hierarchical inheritance: When more than one derived class are created from a single base this type of inheritance is called hierarchical inheritance\n",
    "for e.g class A is the base class and class B class C and Class D are derived from the class A "
   ]
  }
 ],
 "metadata": {
  "kernelspec": {
   "display_name": "Python 3 (ipykernel)",
   "language": "python",
   "name": "python3"
  },
  "language_info": {
   "codemirror_mode": {
    "name": "ipython",
    "version": 3
   },
   "file_extension": ".py",
   "mimetype": "text/x-python",
   "name": "python",
   "nbconvert_exporter": "python",
   "pygments_lexer": "ipython3",
   "version": "3.10.8"
  }
 },
 "nbformat": 4,
 "nbformat_minor": 5
}
